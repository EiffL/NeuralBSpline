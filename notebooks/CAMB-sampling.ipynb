{
 "cells": [
  {
   "cell_type": "code",
   "execution_count": 1,
   "metadata": {},
   "outputs": [
    {
     "name": "stdout",
     "output_type": "stream",
     "text": [
      "Populating the interactive namespace from numpy and matplotlib\n"
     ]
    }
   ],
   "source": [
    "%pylab inline\n",
    "import pyccl as ccl\n",
    "k = np.logspace(-4, 1, 512,endpoint=False)\n",
    "\n",
    "def get_pk(params):\n",
    "    \"\"\" Computes the power spectrum \n",
    "    \"\"\"\n",
    "    cosmo_bbks = ccl.Cosmology(\n",
    "        Omega_c=params[0], \n",
    "        sigma8=params[1],\n",
    "        Omega_b=params[2],\n",
    "        h=params[3],\n",
    "        n_s=params[4],\n",
    "        Neff=0,\n",
    "        transfer_function='bbks', matter_power_spectrum='linear',\n",
    "        Omega_k=0, T_CMB=2.7, m_nu=0.0, m_nu_type='normal'\n",
    "        )\n",
    "    cosmo_camb = ccl.Cosmology(\n",
    "        Omega_c=params[0], \n",
    "        sigma8=params[1],\n",
    "        Omega_b=params[2],\n",
    "        h=params[3],\n",
    "        n_s=params[4],\n",
    "        Neff=0,\n",
    "        transfer_function='boltzmann_camb', matter_power_spectrum='linear',\n",
    "        Omega_k=0, T_CMB=2.7, m_nu=0.0, m_nu_type='normal'\n",
    "        )    \n",
    "\n",
    "    pk_bbks = ccl.linear_matter_power(cosmo_bbks, k, 1.0)\n",
    "    pk_camb = ccl.linear_matter_power(cosmo_camb, k, 1.0)\n",
    "    \n",
    "    return pk_bbks, pk_camb"
   ]
  },
  {
   "cell_type": "code",
   "execution_count": 2,
   "metadata": {},
   "outputs": [],
   "source": [
    "fid_cosmo = np.array([0.25, 0.8,  0.05, 0.7, 0.96])"
   ]
  },
  {
   "cell_type": "code",
   "execution_count": 3,
   "metadata": {},
   "outputs": [],
   "source": [
    "def get_params(batch_size):\n",
    "    om = np.random.uniform(0.1,0.9, batch_size)\n",
    "    s8 = np.random.uniform(0.4,1.0, batch_size)\n",
    "    ob = np.random.uniform(0.03,0.07, batch_size)\n",
    "    ns = np.random.uniform(0.87,0.97, batch_size)\n",
    "    h = np.random.uniform(0.55,0.9, batch_size)\n",
    "    p = np.stack([om,s8,ob,h,ns],axis=1)\n",
    "    return p"
   ]
  },
  {
   "cell_type": "code",
   "execution_count": 4,
   "metadata": {},
   "outputs": [],
   "source": [
    "batch_params = get_params(512)"
   ]
  },
  {
   "cell_type": "code",
   "execution_count": 5,
   "metadata": {},
   "outputs": [
    {
     "data": {
      "text/plain": [
       "(512, 5)"
      ]
     },
     "execution_count": 5,
     "metadata": {},
     "output_type": "execute_result"
    }
   ],
   "source": [
    "batch_params.shape"
   ]
  },
  {
   "cell_type": "code",
   "execution_count": 6,
   "metadata": {},
   "outputs": [],
   "source": [
    "from multiprocessing import Pool\n",
    "from astropy.io import fits"
   ]
  },
  {
   "cell_type": "code",
   "execution_count": 7,
   "metadata": {},
   "outputs": [],
   "source": [
    "p = Pool(8)"
   ]
  },
  {
   "cell_type": "code",
   "execution_count": null,
   "metadata": {},
   "outputs": [
    {
     "name": "stdout",
     "output_type": "stream",
     "text": [
      "Iter 1\n",
      "Iter 2\n",
      "Iter 3\n",
      "Iter 4\n",
      "Iter 5\n",
      "Iter 6\n",
      "Iter 7\n",
      "Iter 8\n",
      "Iter 9\n",
      "Iter 10\n",
      "Iter 11\n",
      "Iter 12\n",
      "Iter 13\n",
      "Iter 14\n",
      "Iter 15\n",
      "Iter 16\n",
      "Iter 17\n",
      "Iter 18\n",
      "Iter 19\n",
      "Iter 20\n",
      "Iter 21\n",
      "Iter 22\n",
      "Iter 23\n",
      "Iter 24\n",
      "Iter 25\n",
      "Iter 26\n",
      "Iter 27\n",
      "Iter 28\n",
      "Iter 29\n",
      "Iter 30\n",
      "Iter 31\n",
      "Iter 32\n",
      "Iter 33\n",
      "Iter 34\n",
      "Iter 35\n",
      "Iter 36\n",
      "Iter 37\n",
      "Iter 38\n",
      "Iter 39\n",
      "Iter 40\n",
      "Iter 41\n",
      "Iter 42\n",
      "Iter 43\n",
      "Iter 44\n",
      "Iter 45\n",
      "Iter 46\n",
      "Iter 47\n",
      "Iter 48\n",
      "Iter 49\n",
      "Iter 50\n",
      "Iter 51\n",
      "Iter 52\n",
      "Iter 53\n",
      "Iter 54\n",
      "Iter 55\n",
      "Iter 56\n",
      "Iter 57\n",
      "Iter 58\n",
      "Iter 59\n",
      "Iter 60\n",
      "Iter 61\n",
      "Iter 62\n",
      "Iter 63\n",
      "Iter 64\n"
     ]
    }
   ],
   "source": [
    "for i in range(100):\n",
    "    batch_params = get_params(1024)\n",
    "    batch_pk = p.map(get_pk, list(batch_params))\n",
    "    \n",
    "    fits.writeto('/data2/camb/params_%03d.fits'%i, batch_params, overwrite=True)\n",
    "    fits.writeto('/data2/camb/data_%03d.fits'%i, np.stack(batch_pk,axis=0), overwrite=True)\n",
    "    print(\"Iter\",i)"
   ]
  },
  {
   "cell_type": "code",
   "execution_count": 9,
   "metadata": {},
   "outputs": [],
   "source": [
    "from astropy.io import fits"
   ]
  },
  {
   "cell_type": "code",
   "execution_count": 8,
   "metadata": {},
   "outputs": [],
   "source": [
    "res = fits.getdata('/data2/camb/data_001.fits')"
   ]
  },
  {
   "cell_type": "code",
   "execution_count": 14,
   "metadata": {},
   "outputs": [
    {
     "data": {
      "text/plain": [
       "[<matplotlib.lines.Line2D at 0x7fee6a622790>]"
      ]
     },
     "execution_count": 14,
     "metadata": {},
     "output_type": "execute_result"
    },
    {
     "data": {
      "image/png": "[encoded data removed]",
      "text/plain": [
       "<Figure size 432x288 with 1 Axes>"
      ]
     },
     "metadata": {
      "needs_background": "light"
     },
     "output_type": "display_data"
    }
   ],
   "source": [
    "plot(res[0,1]/res[0,2])\n",
    "plot(res[1,1]/res[1,2])\n",
    "plot(res[2,1]/res[2,2])\n",
    "plot(res[3,1]/res[3,2])\n",
    "plot(res[4,1]/res[4,2])\n",
    "plot(res[5,1]/res[5,2])"
   ]
  },
  {
   "cell_type": "code",
   "execution_count": null,
   "metadata": {},
   "outputs": [],
   "source": []
  }
 ],
 "metadata": {
  "kernelspec": {
   "display_name": "Python 3",
   "language": "python",
   "name": "python3"
  },
  "language_info": {
   "codemirror_mode": {
    "name": "ipython",
    "version": 3
   },
   "file_extension": ".py",
   "mimetype": "text/x-python",
   "name": "python",
   "nbconvert_exporter": "python",
   "pygments_lexer": "ipython3",
   "version": "3.8.3"
  }
 },
 "nbformat": 4,
 "nbformat_minor": 2
}
