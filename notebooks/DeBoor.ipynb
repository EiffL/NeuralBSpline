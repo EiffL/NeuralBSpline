{
 "cells": [
  {
   "cell_type": "code",
   "execution_count": 20,
   "metadata": {},
   "outputs": [
    {
     "name": "stdout",
     "output_type": "stream",
     "text": [
      "Populating the interactive namespace from numpy and matplotlib\n"
     ]
    },
    {
     "name": "stderr",
     "output_type": "stream",
     "text": [
      "/usr/lib/python3.8/site-packages/IPython/core/magics/pylab.py:159: UserWarning: pylab import has clobbered these variables: ['np']\n",
      "`%matplotlib` prevents importing * from pylab and numpy\n",
      "  warn(\"pylab import has clobbered these variables: %s\"  % clobbered +\n"
     ]
    }
   ],
   "source": [
    "%pylab inline\n",
    "import jax.numpy as np\n",
    "import jax"
   ]
  },
  {
   "cell_type": "code",
   "execution_count": 21,
   "metadata": {},
   "outputs": [],
   "source": [
    "points = np.array([[i, np.sin(i / 3.0), np.cos(i / 2)] for i in range(0, 11)])\n",
    "knots = np.array([0, 0, 0, 0, 0.2, 0.3, 0.4, 0.5, 0.6, 0.7, 0.8, 1.0, 1.0, 1.0, 1.0])"
   ]
  },
  {
   "cell_type": "code",
   "execution_count": 22,
   "metadata": {},
   "outputs": [
    {
     "data": {
      "text/plain": [
       "(15,)"
      ]
     },
     "execution_count": 22,
     "metadata": {},
     "output_type": "execute_result"
    }
   ],
   "source": [
    "knots.shape"
   ]
  },
  {
   "cell_type": "code",
   "execution_count": 23,
   "metadata": {},
   "outputs": [
    {
     "data": {
      "text/plain": [
       "(DeviceArray(0.4, dtype=float32), DeviceArray(0.5, dtype=float32))"
      ]
     },
     "execution_count": 23,
     "metadata": {},
     "output_type": "execute_result"
    }
   ],
   "source": [
    "knots[6], knots[7]"
   ]
  },
  {
   "cell_type": "code",
   "execution_count": 24,
   "metadata": {},
   "outputs": [
    {
     "data": {
      "text/plain": [
       "(11, 3)"
      ]
     },
     "execution_count": 24,
     "metadata": {},
     "output_type": "execute_result"
    }
   ],
   "source": [
    "points.shape"
   ]
  },
  {
   "cell_type": "code",
   "execution_count": 25,
   "metadata": {},
   "outputs": [],
   "source": [
    "def deBoor(k, x, t, c, p):\n",
    "    \"\"\"\n",
    "    Evaluates S(x).\n",
    "\n",
    "    Args\n",
    "    ----\n",
    "    k: index of knot interval that contains x\n",
    "    x: position\n",
    "    t: array of knot positions, needs to be padded as described above\n",
    "    c: array of control points\n",
    "    p: degree of B-spline\n",
    "    \"\"\"\n",
    "    d = [c[j + k - p] for j in range(0, p+1)]\n",
    "    for r in range(1, p+1):\n",
    "        for j in range(p, r-1, -1):\n",
    "            alpha = (x - t[j+k-p]) / (t[j+1+k-r] - t[j+k-p])\n",
    "            d[j] = (1.0 - alpha) * d[j-1] + alpha * d[j]\n",
    "    return d[p]"
   ]
  },
  {
   "cell_type": "code",
   "execution_count": 26,
   "metadata": {},
   "outputs": [],
   "source": [
    "# Can we do a vectorized version of that? \n",
    "def deBoorVectorized(x, t, c, p):\n",
    "    \"\"\"\n",
    "    Evaluates S(x).\n",
    "\n",
    "    Args\n",
    "    ----\n",
    "    x: position\n",
    "    t: array of knot positions, needs to be padded as described above\n",
    "    c: array of control points\n",
    "    p: degree of B-spline\n",
    "    \"\"\"\n",
    "    k = np.digitize(x, t) -1\n",
    "    \n",
    "    d = [c[j + k - p] for j in range(0, p+1)]\n",
    "    for r in range(1, p+1):\n",
    "        for j in range(p, r-1, -1):\n",
    "            alpha = (x - t[j+k-p]) / (t[j+1+k-r] - t[j+k-p])\n",
    "            d[j] = (1.0 - alpha) * d[j-1] + alpha * d[j]\n",
    "    return d[p]"
   ]
  },
  {
   "cell_type": "code",
   "execution_count": 27,
   "metadata": {},
   "outputs": [
    {
     "data": {
      "text/plain": [
       "DeviceArray(0.9791609, dtype=float32)"
      ]
     },
     "execution_count": 27,
     "metadata": {},
     "output_type": "execute_result"
    }
   ],
   "source": [
    "deBoor(6, 0.45, knots, points[:,1],  3 )"
   ]
  },
  {
   "cell_type": "code",
   "execution_count": 50,
   "metadata": {},
   "outputs": [],
   "source": [
    "x = np.linspace(0,1.,100, endpoint=False)\n",
    "y = deBoorVectorized(x, knots, points[:,1], 3 )"
   ]
  },
  {
   "cell_type": "code",
   "execution_count": 51,
   "metadata": {},
   "outputs": [
    {
     "data": {
      "text/plain": [
       "[<matplotlib.lines.Line2D at 0x7fa5c52280a0>]"
      ]
     },
     "execution_count": 51,
     "metadata": {},
     "output_type": "execute_result"
    },
    {
     "data": {
      "image/png": "[encoded data removed]",
      "text/plain": [
       "<Figure size 432x288 with 1 Axes>"
      ]
     },
     "metadata": {
      "needs_background": "light"
     },
     "output_type": "display_data"
    }
   ],
   "source": [
    "plot(x, y)"
   ]
  },
  {
   "cell_type": "code",
   "execution_count": 48,
   "metadata": {},
   "outputs": [
    {
     "data": {
      "text/plain": [
       "DeviceArray([-0.29050553, -0.27947316, -0.26844993, -0.25743592,\n",
       "             -0.24643147, -0.23543692, -0.22445258, -0.21347857,\n",
       "             -0.20251524, -0.19156304,  0.04809087,  0.0987551 ,\n",
       "              0.14715269,  0.19336149,  0.2374595 ,  0.2795245 ,\n",
       "              0.31963444,  0.3578673 ,  0.39430076,  0.4290129 ,\n",
       "              0.4620815 ,  0.49358463,  0.5236001 ,  0.5522057 ,\n",
       "              0.5794795 ,  0.60549927,  0.6303429 ,  0.6540883 ,\n",
       "              0.6768124 ,  0.69858176,  0.7194569 ,  0.7394991 ,\n",
       "              0.7587689 ,  0.7773273 ,  0.79523504,  0.812553  ,\n",
       "              0.829342  ,  0.8456563 ,  0.86146384,  0.87667286,\n",
       "              0.89118946,  0.9049208 ,  0.91777337,  0.92965364,\n",
       "              0.94046843,  0.9501243 ,  0.9585306 ,  0.96564156,\n",
       "              0.9714526 ,  0.97596   ,  0.9791609 ,  0.9810513 ,\n",
       "              0.98162806,  0.9808876 ,  0.9788266 ,  0.97544175,\n",
       "              0.9707371 ,  0.96472496,  0.95741785,  0.94882834,\n",
       "              0.93896925,  0.92785287,  0.91549206,  0.9018995 ,\n",
       "              0.8870884 ,  0.8711127 ,  0.8540834 ,  0.8361167 ,\n",
       "              0.81732774,  0.79783285,  0.7777474 ,  0.7571871 ,\n",
       "              0.736268  ,  0.7151049 ,  0.6937461 ,  0.6721186 ,\n",
       "              0.6501365 ,  0.6277132 ,  0.6047629 ,  0.5811994 ,\n",
       "              0.5569363 ,  0.5318877 ,  0.50596756,  0.47909436,\n",
       "              0.45119748,  0.42220834,  0.39205784,  0.36067703,\n",
       "              0.32799718,  0.29394925,  0.25846455,  0.22147411,\n",
       "              0.182909  ,  0.14270012,  0.10077877,  0.05707631,\n",
       "              0.01152361, -0.03594821, -0.08540802, -0.136925  ],            dtype=float32)"
      ]
     },
     "execution_count": 48,
     "metadata": {},
     "output_type": "execute_result"
    }
   ],
   "source": [
    "y"
   ]
  },
  {
   "cell_type": "code",
   "execution_count": 49,
   "metadata": {},
   "outputs": [
    {
     "data": {
      "text/plain": [
       "DeviceArray([-0.1       , -0.089     , -0.07800001, -0.067     ,\n",
       "             -0.056     , -0.045     , -0.03400001, -0.023     ,\n",
       "             -0.012     , -0.00100001,  0.01      ,  0.021     ,\n",
       "              0.032     ,  0.04299999,  0.054     ,  0.06499999,\n",
       "              0.07599999,  0.087     ,  0.09799999,  0.109     ,\n",
       "              0.11999998,  0.13099998,  0.14199999,  0.153     ,\n",
       "              0.164     ,  0.175     ,  0.18599999,  0.19699997,\n",
       "              0.208     ,  0.21899998,  0.22999997,  0.241     ,\n",
       "              0.25199997,  0.26299998,  0.274     ,  0.285     ,\n",
       "              0.29599997,  0.307     ,  0.318     ,  0.329     ,\n",
       "              0.33999997,  0.35099998,  0.362     ,  0.37299997,\n",
       "              0.384     ,  0.39499998,  0.406     ,  0.417     ,\n",
       "              0.428     ,  0.43899998,  0.45      ,  0.461     ,\n",
       "              0.47199997,  0.48299998,  0.49399996,  0.505     ,\n",
       "              0.51600003,  0.527     ,  0.538     ,  0.54899997,\n",
       "              0.55999994,  0.57100004,  0.582     ,  0.593     ,\n",
       "              0.604     ,  0.61499995,  0.626     ,  0.63699996,\n",
       "              0.648     ,  0.659     ,  0.66999996,  0.681     ,\n",
       "              0.692     ,  0.70299995,  0.714     ,  0.725     ,\n",
       "              0.736     ,  0.747     ,  0.75799996,  0.76899993,\n",
       "              0.78      ,  0.791     ,  0.802     ,  0.81299996,\n",
       "              0.824     ,  0.835     ,  0.84599996,  0.857     ,\n",
       "              0.868     ,  0.879     ,  0.89      ,  0.90099996,\n",
       "              0.91199994,  0.923     ,  0.934     ,  0.945     ,\n",
       "              0.956     ,  0.96699995,  0.9779999 ,  0.98899996],            dtype=float32)"
      ]
     },
     "execution_count": 49,
     "metadata": {},
     "output_type": "execute_result"
    }
   ],
   "source": [
    "x"
   ]
  },
  {
   "cell_type": "code",
   "execution_count": null,
   "metadata": {},
   "outputs": [],
   "source": []
  }
 ],
 "metadata": {
  "kernelspec": {
   "display_name": "Python 3",
   "language": "python",
   "name": "python3"
  },
  "language_info": {
   "codemirror_mode": {
    "name": "ipython",
    "version": 3
   },
   "file_extension": ".py",
   "mimetype": "text/x-python",
   "name": "python",
   "nbconvert_exporter": "python",
   "pygments_lexer": "ipython3",
   "version": "3.8.3"
  }
 },
 "nbformat": 4,
 "nbformat_minor": 2
}
